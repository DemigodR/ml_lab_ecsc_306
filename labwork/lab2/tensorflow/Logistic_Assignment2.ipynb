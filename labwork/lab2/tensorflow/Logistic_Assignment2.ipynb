{
 "cells": [
  {
   "cell_type": "code",
   "execution_count": 16,
   "metadata": {
    "collapsed": true
   },
   "outputs": [],
   "source": [
    "import tensorflow as tf"
   ]
  },
  {
   "cell_type": "code",
   "execution_count": 17,
   "metadata": {
    "collapsed": true
   },
   "outputs": [],
   "source": [
    "\n",
    "\n",
    "#Sample Data : \n",
    "dataset = tf.constant([[2.7810836,2.550537003,0],\n",
    "\t[1.465489372,2.362125076,0],\n",
    "\t[3.396561688,4.400293529,0],\n",
    "\t[1.38807019,1.850220317,0],\n",
    "\t[3.06407232,3.005305973,0],\n",
    "\t[7.627531214,2.759262235,1],\n",
    "\t[5.332441248,2.088626775,1],\n",
    "\t[6.922596716,1.77106367,1],\n",
    "\t[8.675418651,-0.242068655,1],\n",
    "\t[7.673756466,3.508563011,1]])\n",
    "train_x = []\n",
    "train_y = []\n",
    "\n"
   ]
  },
  {
   "cell_type": "code",
   "execution_count": 18,
   "metadata": {},
   "outputs": [
    {
     "name": "stdout",
     "output_type": "stream",
     "text": [
      "x:\n",
      "[2.7810836, 1.4654894, 3.3965616, 1.3880702, 3.0640724, 7.6275311, 5.3324413, 6.9225969, 8.6754189, 7.6737566]\n",
      "y:\n",
      "[2.5505371, 2.3621252, 4.4002934, 1.8502203, 3.005306, 2.7592623, 2.0886269, 1.7710637, -0.24206865, 3.508563]\n"
     ]
    }
   ],
   "source": [
    "with tf.Session() as sess:\n",
    "    for i in range(len(sess.run(dataset))):\n",
    "        train_x.append(dataset[i][0])\n",
    "        train_y.append(dataset[i][1])\n",
    "    print('x:')\n",
    "    print(sess.run(train_x))\n",
    "    print('y:')\n",
    "    print(sess.run(train_y))"
   ]
  },
  {
   "cell_type": "code",
   "execution_count": 19,
   "metadata": {},
   "outputs": [
    {
     "name": "stdout",
     "output_type": "stream",
     "text": [
      "('h0 values:', 0.5)\n",
      "1.0\n"
     ]
    }
   ],
   "source": [
    "training_epoch = 500\n",
    "learning_rate = 0.005\n",
    "t1=0.0\n",
    "t0=0.0\n",
    "\n",
    "h0=tf.divide(1.0,tf.add(1.0,tf.exp(-tf.add(t0,tf.reduce_sum(tf.multiply(t1,train_x))))))\n",
    "\n",
    "model=tf.global_variables_initializer()\n",
    "sess = tf.Session() \n",
    "print(\"h0 values:\",sess.run(h0))\n",
    "c=tf.cond(h0<0.5,lambda:0.00,lambda:1.00)\n",
    "print(sess.run(c))\n"
   ]
  },
  {
   "cell_type": "code",
   "execution_count": 20,
   "metadata": {},
   "outputs": [
    {
     "name": "stdout",
     "output_type": "stream",
     "text": [
      "('Cost function:', array([ inf,  inf,  inf,  inf,  inf,  inf,  inf,  inf, -inf,  inf], dtype=float32))\n",
      "After 500 epoch values:\n",
      "('theta 1 : ', 8.7339535)\n",
      "('theta 0 : ', -18.848351)\n"
     ]
    }
   ],
   "source": [
    "\n",
    "#cost function\n",
    "v=tf.multiply(train_y,tf.log(c))\n",
    "n=tf.subtract(1.0,train_y)\n",
    "m=tf.log(tf.subtract(1.0,c))\n",
    "m1=tf.multiply(n,m)\n",
    "m2=tf.reduce_sum(tf.subtract(-v,m1))\n",
    "print(\"Cost function:\",sess.run(m1))\n",
    "\n",
    "for epoch in range(training_epoch):\n",
    "    \n",
    "    s1=tf.reduce_sum(tf.multiply(tf.subtract(tf.add(tf.multiply(train_y,t1),t0),train_y),train_x))\n",
    "    s0=tf.reduce_sum(tf.subtract(tf.add(tf.multiply(train_x,t1),t0),train_y))\n",
    "    tn1 = tf.subtract(t1,tf.multiply(learning_rate,tf.divide(s1,tf.cast(tf.size(train_x),tf.float32))))\n",
    "    tn0=  tf.subtract(t0,tf.multiply(learning_rate,tf.divide(s0,tf.cast(tf.size(train_x),tf.float32))))\n",
    "    t1=tn1\n",
    "    t0=tn0\n",
    "    model=tf.global_variables_initializer()\n",
    "sess = tf.Session()\n",
    "print(\"After 500 epoch values:\")\n",
    "print(\"theta 1 : \",sess.run(tn1))\n",
    "print(\"theta 0 : \",sess.run(tn0))"
   ]
  },
  {
   "cell_type": "code",
   "execution_count": null,
   "metadata": {
    "collapsed": true
   },
   "outputs": [],
   "source": []
  }
 ],
 "metadata": {
  "kernelspec": {
   "display_name": "Python 2",
   "language": "python",
   "name": "python2"
  },
  "language_info": {
   "codemirror_mode": {
    "name": "ipython",
    "version": 2
   },
   "file_extension": ".py",
   "mimetype": "text/x-python",
   "name": "python",
   "nbconvert_exporter": "python",
   "pygments_lexer": "ipython2",
   "version": "2.7.13"
  }
 },
 "nbformat": 4,
 "nbformat_minor": 2
}
