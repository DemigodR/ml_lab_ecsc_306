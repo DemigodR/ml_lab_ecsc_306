{
 "cells": [
  {
   "cell_type": "code",
   "execution_count": 34,
   "metadata": {},
   "outputs": [
    {
     "name": "stdout",
     "output_type": "stream",
     "text": [
      "mean of array of x:\n",
      "3.5\n",
      "mean of array of y:\n",
      "4.5\n"
     ]
    }
   ],
   "source": [
    "import tensorflow as tf\n",
    "\n",
    "tf.reset_default_graph()\n",
    "\n",
    "x = tf.constant([1.0,2.0,3.0,4.0,5.0,6.0],name = \"x_array\")\n",
    "y = tf.constant([1.0,2.0,3.0,4.0,5.0,12.0],name = \"y_array\")\n",
    "\n",
    "with tf.name_scope(\"averages_of_x_and_y_respectively\"):\n",
    "    with tf.name_scope(\"mean_x\"):\n",
    "        mean_x = tf.reduce_mean(x)\n",
    "    with tf.name_scope(\"mean_x\"):\n",
    "        mean_y = tf.reduce_mean(y)\n",
    "\n",
    "with tf.Session() as sess:\n",
    "    print(\"mean of array of x:\")\n",
    "    print(sess.run(mean_x))\n",
    "    print(\"mean of array of y:\")\n",
    "    print(sess.run(mean_y))"
   ]
  },
  {
   "cell_type": "code",
   "execution_count": 49,
   "metadata": {},
   "outputs": [
    {
     "name": "stdout",
     "output_type": "stream",
     "text": [
      "variance of array of x:\n",
      "2.91667\n",
      "variance of array of x:\n",
      "12.9167\n",
      "6\n"
     ]
    }
   ],
   "source": [
    "var_x = tf.reduce_mean(tf.square(x-mean_x))\n",
    "var_y = tf.reduce_mean(tf.square(y-mean_y))\n",
    "\n",
    "with tf.Session() as sess:\n",
    "    print(\"variance of array of x:\")\n",
    "    print(sess.run(var_x))\n",
    "    print(\"variance of array of x:\")\n",
    "    print(sess.run(var_y))\n",
    "    print(sess.run(count))"
   ]
  },
  {
   "cell_type": "code",
   "execution_count": 50,
   "metadata": {},
   "outputs": [
    {
     "name": "stdout",
     "output_type": "stream",
     "text": [
      "covariance of x and y\n",
      "5.41667\n",
      "5\n"
     ]
    }
   ],
   "source": [
    "cov_xy = tf.reduce_mean((x-mean_x)*(y-mean_y))\n",
    "count = tf.subtract(tf.count_nonzero(x),1)\n",
    "with tf.Session() as sess:\n",
    "    print(\"covariance of x and y\")\n",
    "    print(sess.run(cov_xy))\n",
    "    print(sess.run(count))"
   ]
  },
  {
   "cell_type": "code",
   "execution_count": null,
   "metadata": {
    "collapsed": true
   },
   "outputs": [],
   "source": [
    "m = tf.divide(cov_xy,)"
   ]
  }
 ],
 "metadata": {
  "kernelspec": {
   "display_name": "Python 3",
   "language": "python",
   "name": "python3"
  },
  "language_info": {
   "codemirror_mode": {
    "name": "ipython",
    "version": 3
   },
   "file_extension": ".py",
   "mimetype": "text/x-python",
   "name": "python",
   "nbconvert_exporter": "python",
   "pygments_lexer": "ipython3",
   "version": "3.6.1"
  }
 },
 "nbformat": 4,
 "nbformat_minor": 2
}
