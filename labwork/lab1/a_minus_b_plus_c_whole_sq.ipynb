{
 "cells": [
  {
   "cell_type": "code",
   "execution_count": 2,
   "metadata": {},
   "outputs": [
    {
     "name": "stdout",
     "output_type": "stream",
     "text": [
      "4\n"
     ]
    }
   ],
   "source": [
    "import tensorflow as tf\n",
    "\n",
    "tf.reset_default_graph()\n",
    "\n",
    "with tf.name_scope(\"a_minus_b_plus_c_whole_sq\"):\n",
    "    a = tf.constant(1,name = \"a\")\n",
    "    b = tf.constant(2,name = \"b\")\n",
    "    c = tf.constant(3,name = \"c\")\n",
    "\n",
    "    with tf.name_scope(\"negative_2ab\"):\n",
    "        d = tf.negative(tf.multiply(2,tf.multiply(a,b,name = \"ab\")),name = \"minus_2ab\")\n",
    "    with tf.name_scope(\"negative_2bc\"):\n",
    "        e = tf.negative(tf.multiply(2,tf.multiply(b,c,name = \"bc\")),name = \"minus_2bc\")\n",
    "    with tf.name_scope(\"positive_2ca\"):\n",
    "        f = tf.multiply(2,tf.multiply(c,a,name = \"ca\"), name = \"2ca\")\n",
    "\n",
    "    with tf.name_scope(\"a_square\"):\n",
    "        a = tf.multiply(a,a,name = \"a_sq\")\n",
    "    with tf.name_scope(\"b_square\"):\n",
    "        b = tf.multiply(b,b,name = \"b_sq\")\n",
    "    with tf.name_scope(\"c_square\"):\n",
    "        c = tf.multiply(c,c,name = \"c_sq\")\n",
    "\n",
    "    with tf.name_scope(\"a_sq__plus__b_sq__plus__c__sq__minus__2ab__minus__2bc__plus__2ca\"):\n",
    "        g = tf.add(a,tf.add(b,tf.add(c,tf.add(d,tf.add(e,f)))),name=\"result\")\n",
    "\n",
    "with tf.Session() as sess:\n",
    "    writer = tf.summary.FileWriter(\"/tmp/tboard/output\", sess.graph)\n",
    "    print(sess.run(g))\n",
    "    writer.close()"
   ]
  },
  {
   "cell_type": "code",
   "execution_count": null,
   "metadata": {
    "collapsed": true
   },
   "outputs": [],
   "source": []
  }
 ],
 "metadata": {
  "kernelspec": {
   "display_name": "Python 3",
   "language": "python",
   "name": "python3"
  },
  "language_info": {
   "codemirror_mode": {
    "name": "ipython",
    "version": 3
   },
   "file_extension": ".py",
   "mimetype": "text/x-python",
   "name": "python",
   "nbconvert_exporter": "python",
   "pygments_lexer": "ipython3",
   "version": "3.5.3"
  }
 },
 "nbformat": 4,
 "nbformat_minor": 1
}
